{
  "nbformat": 4,
  "nbformat_minor": 0,
  "metadata": {
    "colab": {
      "provenance": [],
      "authorship_tag": "ABX9TyMWI3h7jkx6JMaYg8KDnPGn",
      "include_colab_link": true
    },
    "kernelspec": {
      "name": "python3",
      "display_name": "Python 3"
    },
    "language_info": {
      "name": "python"
    }
  },
  "cells": [
    {
      "cell_type": "markdown",
      "metadata": {
        "id": "view-in-github",
        "colab_type": "text"
      },
      "source": [
        "<a href=\"https://colab.research.google.com/github/larissacoelho21/Collab_Python/blob/main/jogoDaVelha.ipynb\" target=\"_parent\"><img src=\"https://colab.research.google.com/assets/colab-badge.svg\" alt=\"Open In Colab\"/></a>"
      ]
    },
    {
      "cell_type": "markdown",
      "source": [
        "**Jogo da Velha**"
      ],
      "metadata": {
        "id": "gEA5wf0zDw6Q"
      }
    },
    {
      "cell_type": "code",
      "source": [
        "print(\"Bem vindo ao jogo da Velha!\")\n",
        "\n",
        "tabuleiro = [[\" \", \" \", \" \"],\n",
        "             [\" \", \" \", \" \"],\n",
        "             [\" \", \" \", \" \"]]\n",
        "\n",
        "def printTabuleiro():\n",
        "    for line in tabuleiro:\n",
        "        print(\"|\".join(line))\n",
        "        print(\"-\" * 5)\n",
        "\n",
        "def verifyVencedor():\n",
        "    for line in tabuleiro:\n",
        "        if line[0] == line[1] == line[2] and line[0] != \" \":\n",
        "            return line[0]\n",
        "\n",
        "    for col in range(3):\n",
        "        if tabuleiro[0][col] == tabuleiro[1][col] == tabuleiro[2][col] and tabuleiro[0][col] != \" \":\n",
        "            return tabuleiro[0][col]\n",
        "\n",
        "    if tabuleiro[0][0] == tabuleiro[1][1] == tabuleiro[2][2] and tabuleiro[0][0] != \" \":\n",
        "        return tabuleiro[0][0]\n",
        "\n",
        "    if tabuleiro[0][2] == tabuleiro[1][1] == tabuleiro[2][0] and tabuleiro[0][2] != \" \":\n",
        "        return tabuleiro[0][2]\n",
        "\n",
        "    return None\n",
        "\n",
        "tabela = {\"A1\": (0, 0), \"A2\": (0, 1), \"A3\": (0, 2),\n",
        "            \"B1\": (1, 0), \"B2\": (1, 1), \"B3\": (1, 2),\n",
        "            \"C1\": (2, 0), \"C2\": (2, 1), \"C3\": (2, 2)}\n",
        "\n",
        "\n",
        "actualPlayer = \"X\"\n",
        "for _ in range(9):\n",
        "    printTabuleiro()\n",
        "    posicao = input(f\"Vez do jogador {actualPlayer}. Escolha a posição (ex: A1, B2, C3): \").upper()\n",
        "\n",
        "    if posicao in tabela:\n",
        "        line, column = tabela[posicao]\n",
        "\n",
        "        if tabuleiro[line][column] == \" \":\n",
        "            tabuleiro[line][column] = actualPlayer\n",
        "            winner = verifyVencedor()\n",
        "            if winner:\n",
        "                printTabuleiro()\n",
        "                print(f\"Parabéns! O jogador {winner} venceu!\")\n",
        "                break\n",
        "\n",
        "            actualPlayer = \"O\" if actualPlayer == \"X\" else \"X\"\n",
        "        else:\n",
        "            print(\"Esta posição já está ocupada! Escolha outra.\")\n",
        "    else:\n",
        "        print(\"Esta posição já está inválida! Tente novamente.\")\n",
        "\n",
        "else:\n",
        "    printTabuleiro()\n",
        "    print(\"Empate!\")"
      ],
      "metadata": {
        "colab": {
          "base_uri": "https://localhost:8080/"
        },
        "id": "y7ZIUHKmD0pO",
        "outputId": "b764be93-d04f-41d1-e118-b7c65cda6354"
      },
      "execution_count": 3,
      "outputs": [
        {
          "output_type": "stream",
          "name": "stdout",
          "text": [
            "Bem vindo ao jogo da Velha!\n",
            " | | \n",
            "-----\n",
            " | | \n",
            "-----\n",
            " | | \n",
            "-----\n",
            "Vez do jogador X. Escolha a posição (ex: A1, B2, C3): A1\n",
            "X| | \n",
            "-----\n",
            " | | \n",
            "-----\n",
            " | | \n",
            "-----\n",
            "Vez do jogador O. Escolha a posição (ex: A1, B2, C3): B2\n",
            "X| | \n",
            "-----\n",
            " |O| \n",
            "-----\n",
            " | | \n",
            "-----\n",
            "Vez do jogador X. Escolha a posição (ex: A1, B2, C3): A2\n",
            "X|X| \n",
            "-----\n",
            " |O| \n",
            "-----\n",
            " | | \n",
            "-----\n",
            "Vez do jogador O. Escolha a posição (ex: A1, B2, C3): C3\n",
            "X|X| \n",
            "-----\n",
            " |O| \n",
            "-----\n",
            " | |O\n",
            "-----\n",
            "Vez do jogador X. Escolha a posição (ex: A1, B2, C3): A3\n",
            "X|X|X\n",
            "-----\n",
            " |O| \n",
            "-----\n",
            " | |O\n",
            "-----\n",
            "Parabéns! O jogador X venceu!\n"
          ]
        }
      ]
    }
  ]
}